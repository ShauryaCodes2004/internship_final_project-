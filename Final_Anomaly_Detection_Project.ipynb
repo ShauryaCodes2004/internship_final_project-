{
 "cells": [
  {
   "cell_type": "markdown",
   "id": "06438dfa",
   "metadata": {},
   "source": [
    "# 🧠 Network Anomaly Detection using Unsupervised Learning\n",
    "In this project, we aim to detect **anomalies in network traffic** that could indicate potential **security breaches** or **system failures**, using unsupervised learning techniques.\n",
    "\n",
    "We use the **KDD Cup 1999 dataset**, which includes a variety of simulated intrusions and normal network traffic. This project leverages:\n",
    "\n",
    "- Isolation Forest (tree-based anomaly detection)\n",
    "- Autoencoder (deep learning reconstruction-based anomaly detection)\n",
    "\n",
    "---"
   ]
  },
  {
   "cell_type": "markdown",
   "id": "5d399c43",
   "metadata": {},
   "source": [
    "## 📥 Step 1: Load and Inspect the Dataset"
   ]
  },
  {
   "cell_type": "code",
   "execution_count": null,
   "id": "b290fad1",
   "metadata": {},
   "outputs": [],
   "source": [
    "import pandas as pd\n",
    "import numpy as np\n",
    "\n",
    "# Load 10% corrected dataset\n",
    "df = pd.read_csv(\"kddcup.data_10_percent.gz\", header=None)\n",
    "\n",
    "# Preview dataset\n",
    "df.head()"
   ]
  },
  {
   "cell_type": "markdown",
   "id": "c396b7bb",
   "metadata": {},
   "source": [
    "## 🔧 Step 2: Data Preprocessing\n",
    "- Encode categorical variables\n",
    "- Normalize numerical features"
   ]
  },
  {
   "cell_type": "code",
   "execution_count": null,
   "id": "35517c09",
   "metadata": {},
   "outputs": [],
   "source": [
    "from sklearn.preprocessing import LabelEncoder, StandardScaler\n",
    "\n",
    "df_encoded = df.copy()\n",
    "\n",
    "# Label encode object columns\n",
    "for col in df_encoded.select_dtypes(include=['object']).columns:\n",
    "    le = LabelEncoder()\n",
    "    df_encoded[col] = le.fit_transform(df_encoded[col])\n",
    "\n",
    "# Normalize data\n",
    "scaler = StandardScaler()\n",
    "X_scaled = scaler.fit_transform(df_encoded.drop(columns=[41]))  # drop label column\n"
   ]
  },
  {
   "cell_type": "markdown",
   "id": "1306acc6",
   "metadata": {},
   "source": [
    "## 🌲 Step 3: Anomaly Detection using Isolation Forest"
   ]
  },
  {
   "cell_type": "code",
   "execution_count": null,
   "id": "0dc31f83",
   "metadata": {},
   "outputs": [],
   "source": [
    "from sklearn.ensemble import IsolationForest\n",
    "\n",
    "iso_forest = IsolationForest(contamination=0.05, random_state=42)\n",
    "df_encoded['anomaly_iforest'] = iso_forest.fit_predict(X_scaled)\n",
    "\n",
    "# Count anomalies\n",
    "df_encoded['anomaly_iforest'].value_counts()"
   ]
  },
  {
   "cell_type": "markdown",
   "id": "004b3789",
   "metadata": {},
   "source": [
    "## 🤖 Step 4: Anomaly Detection using Autoencoder"
   ]
  },
  {
   "cell_type": "code",
   "execution_count": null,
   "id": "cc247587",
   "metadata": {},
   "outputs": [],
   "source": [
    "import tensorflow as tf\n",
    "from tensorflow.keras import layers, models\n",
    "\n",
    "input_dim = X_scaled.shape[1]\n",
    "\n",
    "autoencoder = models.Sequential([\n",
    "    layers.Input(shape=(input_dim,)),\n",
    "    layers.Dense(64, activation='relu'),\n",
    "    layers.Dense(32, activation='relu'),\n",
    "    layers.Dense(64, activation='relu'),\n",
    "    layers.Dense(input_dim, activation='linear')\n",
    "])\n",
    "\n",
    "autoencoder.compile(optimizer='adam', loss='mse')\n",
    "autoencoder.fit(X_scaled, X_scaled, epochs=5, batch_size=256, shuffle=True)\n",
    "\n",
    "# Reconstruction error\n",
    "reconstructions = autoencoder.predict(X_scaled)\n",
    "mse = tf.keras.losses.mse(X_scaled, reconstructions).numpy()\n",
    "\n",
    "# Threshold: mean + 3*std\n",
    "threshold = np.mean(mse) + 3 * np.std(mse)\n",
    "df_encoded['anomaly_autoencoder'] = (mse > threshold).astype(int)\n",
    "\n",
    "df_encoded['anomaly_autoencoder'].value_counts()"
   ]
  },
  {
   "cell_type": "markdown",
   "id": "37bb8943",
   "metadata": {},
   "source": [
    "## 📊 Step 5: Optional - Evaluation using Known Labels"
   ]
  },
  {
   "cell_type": "code",
   "execution_count": null,
   "id": "bb04271d",
   "metadata": {},
   "outputs": [],
   "source": [
    "from sklearn.metrics import classification_report\n",
    "\n",
    "df_encoded['true_label'] = (df[41] != 'normal.').astype(int)\n",
    "\n",
    "print(\"Isolation Forest:\n",
    "\")\n",
    "print(classification_report(df_encoded['true_label'], df_encoded['anomaly_iforest'] == -1))\n",
    "\n",
    "print(\"Autoencoder:\n",
    "\")\n",
    "print(classification_report(df_encoded['true_label'], df_encoded['anomaly_autoencoder']))"
   ]
  },
  {
   "cell_type": "markdown",
   "id": "d0b3ba47",
   "metadata": {},
   "source": [
    "## ✅ Conclusion\n",
    "In this project, we applied **Isolation Forest** and **Autoencoder** to detect anomalies in the KDD Cup 1999 dataset.\n",
    "\n",
    "- Isolation Forest is simple and fast but may not capture complex patterns.\n",
    "- Autoencoder provides a deep learning approach that can adapt to intricate feature interactions.\n",
    "\n",
    "**Next steps**:\n",
    "- Perform PCA or t-SNE for better visual analysis\n",
    "- Fine-tune thresholds and evaluate ROC-AUC\n",
    "- Explore other unsupervised techniques like One-Class SVM or DBSCAN"
   ]
  }
 ],
 "metadata": {},
 "nbformat": 4,
 "nbformat_minor": 5
}
